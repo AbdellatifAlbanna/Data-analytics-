{
  "nbformat": 4,
  "nbformat_minor": 0,
  "metadata": {
    "colab": {
      "provenance": [],
      "authorship_tag": "ABX9TyP2ivLuL+MoZM5KXaKhA+NT",
      "include_colab_link": true
    },
    "kernelspec": {
      "name": "python3",
      "display_name": "Python 3"
    },
    "language_info": {
      "name": "python"
    }
  },
  "cells": [
    {
      "cell_type": "markdown",
      "metadata": {
        "id": "view-in-github",
        "colab_type": "text"
      },
      "source": [
        "<a href=\"https://colab.research.google.com/github/AbdellatifAlbanna/Data-analytics-/blob/main/CAR_PRICE_TEST_LEC10.ipynb\" target=\"_parent\"><img src=\"https://colab.research.google.com/assets/colab-badge.svg\" alt=\"Open In Colab\"/></a>"
      ]
    },
    {
      "cell_type": "code",
      "execution_count": null,
      "metadata": {
        "colab": {
          "base_uri": "https://localhost:8080/"
        },
        "id": "xmBNAPI4PvW6",
        "outputId": "7793a170-b2c6-4b83-ee64-eb188aefa097"
      },
      "outputs": [
        {
          "output_type": "stream",
          "name": "stdout",
          "text": [
            "Making predictions for the following 5 cars:\n",
            "         ID  Airbags  Cylinders\n",
            "0  45654403       12        6.0\n",
            "1  44731507        8        6.0\n",
            "2  45774419        2        4.0\n",
            "3  45769185        0        4.0\n",
            "4  45809263        4        4.0\n",
            "The predictions are\n",
            "[13328.   16621.    8467.    3607.   23996.75]\n",
            "10620.057257202257\n"
          ]
        }
      ],
      "source": [
        "import math\n",
        "import pandas as pd\n",
        "import numpy as np\n",
        "\n",
        "pd.plotting.register_matplotlib_converters()\n",
        "import matplotlib.pyplot as plt\n",
        "%matplotlib inline\n",
        "import seaborn as sns\n",
        "\n",
        "\n",
        "\n",
        "car_price_prediction = pd.read_csv(\"/content/sample_data/car_price_prediction.csv\")\n",
        "\n",
        "new_Mileage = car_price_prediction.Mileage.replace(\"km\", \"\")\n",
        "car_price_prediction.tail(100)\n",
        "\n",
        "car_price_prediction.describe()\n",
        "\n",
        "car_price_prediction = car_price_prediction.dropna(axis=0)\n",
        "\n",
        "car_price_prediction.head(100)\n",
        "y = car_price_prediction.Price\n",
        "\n",
        "car_features = ['ID', 'Airbags','Cylinders',]\n",
        "\n",
        "X = car_price_prediction[car_features]\n",
        "\n",
        "\n",
        "from sklearn.tree import DecisionTreeRegressor\n",
        "\n",
        "# Define model. Specify a number for random_state to ensure same results each run\n",
        "car_price_prediction_model = DecisionTreeRegressor(random_state=1)\n",
        "\n",
        "# Fit model\n",
        "car_price_prediction_model.fit(X, y)\n",
        "\n",
        "print(\"Making predictions for the following 5 cars:\")\n",
        "print(X.head())\n",
        "print(\"The predictions are\")\n",
        "\n",
        "print(car_price_prediction_model.predict(X.head()))\n",
        "\n",
        "\n",
        "\n",
        "from sklearn.model_selection import train_test_split\n",
        "from sklearn.metrics import mean_absolute_error\n",
        "\n",
        "train_X, val_X, train_y, val_y = train_test_split(X, y, random_state = 0)\n",
        "# Define model\n",
        "car_price_prediction_model = DecisionTreeRegressor()\n",
        "# Fit model\n",
        "car_price_prediction_model.fit(train_X, train_y)\n",
        "# get predicted prices on validation data\n",
        "val_predictions = car_price_prediction_model.predict(val_X)\n",
        "print(mean_absolute_error(val_y, val_predictions))\n",
        "\n",
        "# help(mean_absolute_error())\n",
        "\n"
      ]
    }
  ]
}